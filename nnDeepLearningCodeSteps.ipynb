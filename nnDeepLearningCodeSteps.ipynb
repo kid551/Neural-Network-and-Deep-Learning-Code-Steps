{
 "cells": [
  {
   "cell_type": "markdown",
   "metadata": {},
   "source": [
    "# Neural Network and Deep Code Steps"
   ]
  },
  {
   "cell_type": "markdown",
   "metadata": {},
   "source": [
    "This notebook is based on Michael Nielsen's book [Neural Networks an Deep Learning](http://neuralnetworksanddeeplearning.com/index.html). It'll give step by step code processing with some comments."
   ]
  },
  {
   "cell_type": "markdown",
   "metadata": {},
   "source": [
    "# Chapter 1"
   ]
  },
  {
   "cell_type": "markdown",
   "metadata": {},
   "source": [
    "## Building of network"
   ]
  },
  {
   "cell_type": "markdown",
   "metadata": {},
   "source": [
    "Import the basic python libraries."
   ]
  },
  {
   "cell_type": "code",
   "execution_count": 1,
   "metadata": {
    "collapsed": true
   },
   "outputs": [],
   "source": [
    "#### Libraries\n",
    "# Standard library\n",
    "import random\n",
    "\n",
    "# Third-party libraries\n",
    "import numpy as np"
   ]
  },
  {
   "cell_type": "markdown",
   "metadata": {},
   "source": [
    "The list **sizes** contains the number of neurons in the respective layers of the network.  For example, if the list was ```[2, 3, 1]``` then it would be a three-layer network, with the first layer containing 2 neurons, the second layer 3 neurons, and the third layer 1 neuron."
   ]
  },
  {
   "cell_type": "code",
   "execution_count": 2,
   "metadata": {
    "collapsed": true
   },
   "outputs": [],
   "source": [
    "sizes = [2, 3, 1]"
   ]
  },
  {
   "cell_type": "markdown",
   "metadata": {},
   "source": [
    "The biases and weights for the network are initialized randomly, using a Gaussian distribution with mean 0, and variance 1."
   ]
  },
  {
   "cell_type": "markdown",
   "metadata": {},
   "source": [
    "Note that the first layer is assumed to be an input layer, and by convention we won't set any biases for those neurons, since biases are only ever used in computing the outputs from later layers."
   ]
  },
  {
   "cell_type": "markdown",
   "metadata": {},
   "source": [
    "### 'numpy.random.randn' usage\n",
    "\n",
    "#### note\n",
    "---\n",
    "For random samples from $N(\\mu, \\sigma^2)$, use:\n",
    "~~~~\n",
    "sigma * np.random.randn(...) + mu\n",
    "~~~~\n",
    "\n",
    "\n",
    "#### examples\n",
    "---\n",
    "~~~~\n",
    ">>> np.random.randn()\n",
    "2.1923875335537315 #random\n",
    "~~~~\n",
    "\n",
    "\n",
    "Two-by-four array of samples from N(3, 6.25):\n",
    "~~~~\n",
    ">>> 2.5 * np.random.randn(2, 4) + 3\n",
    "array([[-4.49401501,  4.00950034, -1.81814867,  7.29718677],  #random\n",
    "       [ 0.39924804,  4.68456316,  4.99394529,  4.84057254]]) #random\n",
    "~~~~"
   ]
  },
  {
   "cell_type": "code",
   "execution_count": 3,
   "metadata": {
    "collapsed": false
   },
   "outputs": [],
   "source": [
    "bias = [np.random.randn(y, 1) for y in sizes[1:]]    # generate bias paramters based on number of neurons"
   ]
  },
  {
   "cell_type": "code",
   "execution_count": 4,
   "metadata": {
    "collapsed": false
   },
   "outputs": [
    {
     "data": {
      "text/plain": [
       "[array([[ 0.49410761],\n",
       "        [-2.62484882],\n",
       "        [-0.17383486]]), array([[-0.69919593]])]"
      ]
     },
     "execution_count": 4,
     "metadata": {},
     "output_type": "execute_result"
    }
   ],
   "source": [
    "bias"
   ]
  },
  {
   "cell_type": "code",
   "execution_count": 5,
   "metadata": {
    "collapsed": false
   },
   "outputs": [],
   "source": [
    "weights = [np.random.randn(y, x)\n",
    "                        for x, y in zip(sizes[:-1], sizes[1:])]"
   ]
  },
  {
   "cell_type": "code",
   "execution_count": 6,
   "metadata": {
    "collapsed": false
   },
   "outputs": [
    {
     "data": {
      "text/plain": [
       "[array([[-0.56671211,  1.71338812],\n",
       "        [-0.4661193 , -0.00521811],\n",
       "        [ 0.35104098, -0.05041912]]),\n",
       " array([[ 0.43395766, -1.35745991, -0.8821855 ]])]"
      ]
     },
     "execution_count": 6,
     "metadata": {},
     "output_type": "execute_result"
    }
   ],
   "source": [
    "weights"
   ]
  }
 ],
 "metadata": {
  "kernelspec": {
   "display_name": "Python 2",
   "language": "python",
   "name": "python2"
  },
  "language_info": {
   "codemirror_mode": {
    "name": "ipython",
    "version": 2
   },
   "file_extension": ".py",
   "mimetype": "text/x-python",
   "name": "python",
   "nbconvert_exporter": "python",
   "pygments_lexer": "ipython2",
   "version": "2.7.11"
  }
 },
 "nbformat": 4,
 "nbformat_minor": 0
}
